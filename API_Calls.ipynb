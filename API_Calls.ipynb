{
 "cells": [
  {
   "cell_type": "code",
   "execution_count": 1,
   "id": "32dd86d8-ccb8-4bf5-9769-a2639fd93d08",
   "metadata": {},
   "outputs": [],
   "source": [
    "import pandas as pd\n",
    "import matplotlib.pyplot as plt\n",
    "import seaborn as sns\n",
    "import os, json, time\n",
    "from tqdm.notebook import tqdm_notebook"
   ]
  },
  {
   "cell_type": "code",
   "execution_count": 2,
   "id": "7b88ed3d-0bb6-42cf-b1b6-24ac1f4b3102",
   "metadata": {},
   "outputs": [
    {
     "data": {
      "text/plain": [
       "dict_keys(['api-key', 'api_read_access_token'])"
      ]
     },
     "execution_count": 2,
     "metadata": {},
     "output_type": "execute_result"
    }
   ],
   "source": [
    "import json\n",
    "with open('/Users/justindevine/.secret/tmdb_api.json', 'r') as f:\n",
    "    login = json.load(f)\n",
    "## Display the keys of the loaded dict\n",
    "login.keys()"
   ]
  },
  {
   "cell_type": "code",
   "execution_count": 3,
   "id": "5840cf38-b298-4e00-b1ef-eaafddd82084",
   "metadata": {},
   "outputs": [],
   "source": [
    "import tmdbsimple as tmdb\n",
    "tmdb.API_KEY = login['api-key']"
   ]
  },
  {
   "cell_type": "code",
   "execution_count": 4,
   "id": "4fb73e07-4019-476e-98d4-6a3b5e8c45e6",
   "metadata": {},
   "outputs": [
    {
     "data": {
      "text/plain": [
       "['.ipynb_checkpoints',\n",
       " 'create_movies_database.sql',\n",
       " 'data-2.tsv',\n",
       " 'data.tsv',\n",
       " 'movie_basics',\n",
       " 'movie_basics.csv',\n",
       " 'movie_ratings',\n",
       " 'movie_ratings.csv',\n",
       " 'movies',\n",
       " 'movies.mwb',\n",
       " 'movies.mwb.bak',\n",
       " 'movies.png',\n",
       " 'title-akas-us-only.csv']"
      ]
     },
     "execution_count": 4,
     "metadata": {},
     "output_type": "execute_result"
    }
   ],
   "source": [
    "# Create the folder for saving files (if it doesn't exist)\n",
    "FOLDER = \"Data/\"\n",
    "os.makedirs(FOLDER, exist_ok=True)\n",
    "\n",
    "# Show the list of files included in the folder\n",
    "sorted(os.listdir(FOLDER))"
   ]
  },
  {
   "cell_type": "code",
   "execution_count": 5,
   "id": "0a5696ba-94e8-48b8-8e0d-af21e037153b",
   "metadata": {},
   "outputs": [],
   "source": [
    "def get_movie_with_rating(movie_id):\n",
    "    \n",
    "    movie = tmdb.Movies(movie_id)\n",
    "    \n",
    "\n",
    "    movie_info = movie.info()\n",
    "    releases = movie.releases()\n",
    "\n",
    "    for c in releases['countries']:\n",
    "        \n",
    "        if c['iso_3166_1' ] =='US':\n",
    "            \n",
    "            movie_info['certification'] = c['certification']\n",
    "    return movie_info\n",
    "\n",
    "\n",
    "def write_json(new_data, filename): \n",
    "    \"\"\"Appends a list of records (new_data) to a json file (filename). \n",
    "    Adapted from: https://www.geeksforgeeks.org/append-to-json-file-using-python/\"\"\"  \n",
    "    \n",
    "    with open(filename,'r+') as file:\n",
    "\n",
    "        file_data = json.load(file)\n",
    "\n",
    "        if (type(new_data) == list) & (type(file_data) == list):\n",
    "            file_data.extend(new_data)\n",
    "        else:\n",
    "             file_data.append(new_data)\n",
    "\n",
    "        file.seek(0)\n",
    "\n",
    "        json.dump(file_data, file)"
   ]
  },
  {
   "cell_type": "code",
   "execution_count": 6,
   "id": "c0a86ee0-9483-47a0-8c49-253b5c7152d3",
   "metadata": {},
   "outputs": [
    {
     "data": {
      "text/plain": [
       "{'adult': False,\n",
       " 'backdrop_path': '/9BBTo63ANSmhC4e6r62OJFuK2GL.jpg',\n",
       " 'belongs_to_collection': {'id': 86311,\n",
       "  'name': 'The Avengers Collection',\n",
       "  'poster_path': '/yFSIUVTCvgYrpalUktulvk3Gi5Y.jpg',\n",
       "  'backdrop_path': '/zuW6fOiusv4X9nnW3paHGfXcSll.jpg'},\n",
       " 'budget': 220000000,\n",
       " 'genres': [{'id': 878, 'name': 'Science Fiction'},\n",
       "  {'id': 28, 'name': 'Action'},\n",
       "  {'id': 12, 'name': 'Adventure'}],\n",
       " 'homepage': 'https://www.marvel.com/movies/the-avengers',\n",
       " 'id': 24428,\n",
       " 'imdb_id': 'tt0848228',\n",
       " 'original_language': 'en',\n",
       " 'original_title': 'The Avengers',\n",
       " 'overview': 'When an unexpected enemy emerges and threatens global safety and security, Nick Fury, director of the international peacekeeping agency known as S.H.I.E.L.D., finds himself in need of a team to pull the world back from the brink of disaster. Spanning the globe, a daring recruitment effort begins!',\n",
       " 'popularity': 135.948,\n",
       " 'poster_path': '/RYMX2wcKCBAr24UyPD7xwmjaTn.jpg',\n",
       " 'production_companies': [{'id': 420,\n",
       "   'logo_path': '/hUzeosd33nzE5MCNsZxCGEKTXaQ.png',\n",
       "   'name': 'Marvel Studios',\n",
       "   'origin_country': 'US'}],\n",
       " 'production_countries': [{'iso_3166_1': 'US',\n",
       "   'name': 'United States of America'}],\n",
       " 'release_date': '2012-04-25',\n",
       " 'revenue': 1518815515,\n",
       " 'runtime': 143,\n",
       " 'spoken_languages': [{'english_name': 'English',\n",
       "   'iso_639_1': 'en',\n",
       "   'name': 'English'},\n",
       "  {'english_name': 'Hindi', 'iso_639_1': 'hi', 'name': 'हिन्दी'},\n",
       "  {'english_name': 'Russian', 'iso_639_1': 'ru', 'name': 'Pусский'}],\n",
       " 'status': 'Released',\n",
       " 'tagline': 'Some assembly required.',\n",
       " 'title': 'The Avengers',\n",
       " 'video': False,\n",
       " 'vote_average': 7.711,\n",
       " 'vote_count': 29291,\n",
       " 'certification': 'PG-13'}"
      ]
     },
     "execution_count": 6,
     "metadata": {},
     "output_type": "execute_result"
    }
   ],
   "source": [
    "test = get_movie_with_rating(\"tt0848228\")\n",
    "test"
   ]
  },
  {
   "cell_type": "code",
   "execution_count": 7,
   "id": "495c7b11-ca4d-48db-9cd6-0ab55f5438d0",
   "metadata": {},
   "outputs": [
    {
     "data": {
      "text/plain": [
       "{'adult': False,\n",
       " 'backdrop_path': '/qom1SZSENdmHFNZBXbtJAU0WTlC.jpg',\n",
       " 'belongs_to_collection': None,\n",
       " 'budget': 29000000,\n",
       " 'genres': [{'id': 10749, 'name': 'Romance'}, {'id': 18, 'name': 'Drama'}],\n",
       " 'homepage': 'http://www.newline.com/properties/notebookthe.html',\n",
       " 'id': 11036,\n",
       " 'imdb_id': 'tt0332280',\n",
       " 'original_language': 'en',\n",
       " 'original_title': 'The Notebook',\n",
       " 'overview': \"An epic love story centered around an older man who reads aloud to a woman with Alzheimer's. From a faded notebook, the old man's words bring to life the story about a couple who is separated by World War II, and is then passionately reunited, seven years later, after they have taken different paths.\",\n",
       " 'popularity': 65.944,\n",
       " 'poster_path': '/rNzQyW4f8B8cQeg7Dgj3n6eT5k9.jpg',\n",
       " 'production_companies': [{'id': 12,\n",
       "   'logo_path': '/mevhneWSqbjU22D1MXNd4H9x0r0.png',\n",
       "   'name': 'New Line Cinema',\n",
       "   'origin_country': 'US'},\n",
       "  {'id': 1565, 'logo_path': None, 'name': 'Avery Pix', 'origin_country': 'US'},\n",
       "  {'id': 2605,\n",
       "   'logo_path': None,\n",
       "   'name': 'Gran Via Productions',\n",
       "   'origin_country': 'US'}],\n",
       " 'production_countries': [{'iso_3166_1': 'US',\n",
       "   'name': 'United States of America'}],\n",
       " 'release_date': '2004-06-25',\n",
       " 'revenue': 115603229,\n",
       " 'runtime': 123,\n",
       " 'spoken_languages': [{'english_name': 'English',\n",
       "   'iso_639_1': 'en',\n",
       "   'name': 'English'}],\n",
       " 'status': 'Released',\n",
       " 'tagline': 'Behind every great love is a great story.',\n",
       " 'title': 'The Notebook',\n",
       " 'video': False,\n",
       " 'vote_average': 7.881,\n",
       " 'vote_count': 10696,\n",
       " 'certification': 'PG-13'}"
      ]
     },
     "execution_count": 7,
     "metadata": {},
     "output_type": "execute_result"
    }
   ],
   "source": [
    "test2 = get_movie_with_rating(\"tt0332280\")\n",
    "test2"
   ]
  },
  {
   "cell_type": "code",
   "execution_count": 8,
   "id": "3c221cfe-2bde-48f8-9f77-70c2263fcce5",
   "metadata": {},
   "outputs": [
    {
     "data": {
      "text/html": [
       "<div>\n",
       "<style scoped>\n",
       "    .dataframe tbody tr th:only-of-type {\n",
       "        vertical-align: middle;\n",
       "    }\n",
       "\n",
       "    .dataframe tbody tr th {\n",
       "        vertical-align: top;\n",
       "    }\n",
       "\n",
       "    .dataframe thead th {\n",
       "        text-align: right;\n",
       "    }\n",
       "</style>\n",
       "<table border=\"1\" class=\"dataframe\">\n",
       "  <thead>\n",
       "    <tr style=\"text-align: right;\">\n",
       "      <th></th>\n",
       "      <th>Unnamed: 0</th>\n",
       "      <th>tconst</th>\n",
       "      <th>titleType</th>\n",
       "      <th>primaryTitle</th>\n",
       "      <th>originalTitle</th>\n",
       "      <th>isAdult</th>\n",
       "      <th>startYear</th>\n",
       "      <th>endYear</th>\n",
       "      <th>runtimeMinutes</th>\n",
       "      <th>genres</th>\n",
       "    </tr>\n",
       "  </thead>\n",
       "  <tbody>\n",
       "    <tr>\n",
       "      <th>0</th>\n",
       "      <td>34802</td>\n",
       "      <td>tt0035423</td>\n",
       "      <td>movie</td>\n",
       "      <td>Kate &amp; Leopold</td>\n",
       "      <td>Kate &amp; Leopold</td>\n",
       "      <td>0</td>\n",
       "      <td>2001.0</td>\n",
       "      <td>NaN</td>\n",
       "      <td>118</td>\n",
       "      <td>Comedy,Fantasy,Romance</td>\n",
       "    </tr>\n",
       "    <tr>\n",
       "      <th>1</th>\n",
       "      <td>61114</td>\n",
       "      <td>tt0062336</td>\n",
       "      <td>movie</td>\n",
       "      <td>The Tango of the Widower and Its Distorting Mi...</td>\n",
       "      <td>El tango del viudo y su espejo deformante</td>\n",
       "      <td>0</td>\n",
       "      <td>2020.0</td>\n",
       "      <td>NaN</td>\n",
       "      <td>70</td>\n",
       "      <td>Drama</td>\n",
       "    </tr>\n",
       "    <tr>\n",
       "      <th>2</th>\n",
       "      <td>67666</td>\n",
       "      <td>tt0069049</td>\n",
       "      <td>movie</td>\n",
       "      <td>The Other Side of the Wind</td>\n",
       "      <td>The Other Side of the Wind</td>\n",
       "      <td>0</td>\n",
       "      <td>2018.0</td>\n",
       "      <td>NaN</td>\n",
       "      <td>122</td>\n",
       "      <td>Drama</td>\n",
       "    </tr>\n",
       "    <tr>\n",
       "      <th>3</th>\n",
       "      <td>86793</td>\n",
       "      <td>tt0088751</td>\n",
       "      <td>movie</td>\n",
       "      <td>The Naked Monster</td>\n",
       "      <td>The Naked Monster</td>\n",
       "      <td>0</td>\n",
       "      <td>2005.0</td>\n",
       "      <td>NaN</td>\n",
       "      <td>100</td>\n",
       "      <td>Comedy,Horror,Sci-Fi</td>\n",
       "    </tr>\n",
       "    <tr>\n",
       "      <th>4</th>\n",
       "      <td>93930</td>\n",
       "      <td>tt0096056</td>\n",
       "      <td>movie</td>\n",
       "      <td>Crime and Punishment</td>\n",
       "      <td>Crime and Punishment</td>\n",
       "      <td>0</td>\n",
       "      <td>2002.0</td>\n",
       "      <td>NaN</td>\n",
       "      <td>126</td>\n",
       "      <td>Drama</td>\n",
       "    </tr>\n",
       "    <tr>\n",
       "      <th>...</th>\n",
       "      <td>...</td>\n",
       "      <td>...</td>\n",
       "      <td>...</td>\n",
       "      <td>...</td>\n",
       "      <td>...</td>\n",
       "      <td>...</td>\n",
       "      <td>...</td>\n",
       "      <td>...</td>\n",
       "      <td>...</td>\n",
       "      <td>...</td>\n",
       "    </tr>\n",
       "    <tr>\n",
       "      <th>86974</th>\n",
       "      <td>10016149</td>\n",
       "      <td>tt9914942</td>\n",
       "      <td>movie</td>\n",
       "      <td>Life Without Sara Amat</td>\n",
       "      <td>La vida sense la Sara Amat</td>\n",
       "      <td>0</td>\n",
       "      <td>2019.0</td>\n",
       "      <td>NaN</td>\n",
       "      <td>74</td>\n",
       "      <td>Drama</td>\n",
       "    </tr>\n",
       "    <tr>\n",
       "      <th>86975</th>\n",
       "      <td>10016544</td>\n",
       "      <td>tt9915872</td>\n",
       "      <td>movie</td>\n",
       "      <td>The Last White Witch</td>\n",
       "      <td>My Girlfriend is a Wizard</td>\n",
       "      <td>0</td>\n",
       "      <td>2019.0</td>\n",
       "      <td>NaN</td>\n",
       "      <td>97</td>\n",
       "      <td>Comedy,Drama,Fantasy</td>\n",
       "    </tr>\n",
       "    <tr>\n",
       "      <th>86976</th>\n",
       "      <td>10016684</td>\n",
       "      <td>tt9916170</td>\n",
       "      <td>movie</td>\n",
       "      <td>The Rehearsal</td>\n",
       "      <td>O Ensaio</td>\n",
       "      <td>0</td>\n",
       "      <td>2019.0</td>\n",
       "      <td>NaN</td>\n",
       "      <td>51</td>\n",
       "      <td>Drama</td>\n",
       "    </tr>\n",
       "    <tr>\n",
       "      <th>86977</th>\n",
       "      <td>10016693</td>\n",
       "      <td>tt9916190</td>\n",
       "      <td>movie</td>\n",
       "      <td>Safeguard</td>\n",
       "      <td>Safeguard</td>\n",
       "      <td>0</td>\n",
       "      <td>2020.0</td>\n",
       "      <td>NaN</td>\n",
       "      <td>95</td>\n",
       "      <td>Action,Adventure,Thriller</td>\n",
       "    </tr>\n",
       "    <tr>\n",
       "      <th>86978</th>\n",
       "      <td>10016777</td>\n",
       "      <td>tt9916362</td>\n",
       "      <td>movie</td>\n",
       "      <td>Coven</td>\n",
       "      <td>Akelarre</td>\n",
       "      <td>0</td>\n",
       "      <td>2020.0</td>\n",
       "      <td>NaN</td>\n",
       "      <td>92</td>\n",
       "      <td>Drama,History</td>\n",
       "    </tr>\n",
       "  </tbody>\n",
       "</table>\n",
       "<p>86979 rows × 10 columns</p>\n",
       "</div>"
      ],
      "text/plain": [
       "       Unnamed: 0     tconst titleType  \\\n",
       "0           34802  tt0035423     movie   \n",
       "1           61114  tt0062336     movie   \n",
       "2           67666  tt0069049     movie   \n",
       "3           86793  tt0088751     movie   \n",
       "4           93930  tt0096056     movie   \n",
       "...           ...        ...       ...   \n",
       "86974    10016149  tt9914942     movie   \n",
       "86975    10016544  tt9915872     movie   \n",
       "86976    10016684  tt9916170     movie   \n",
       "86977    10016693  tt9916190     movie   \n",
       "86978    10016777  tt9916362     movie   \n",
       "\n",
       "                                            primaryTitle  \\\n",
       "0                                         Kate & Leopold   \n",
       "1      The Tango of the Widower and Its Distorting Mi...   \n",
       "2                             The Other Side of the Wind   \n",
       "3                                      The Naked Monster   \n",
       "4                                   Crime and Punishment   \n",
       "...                                                  ...   \n",
       "86974                             Life Without Sara Amat   \n",
       "86975                               The Last White Witch   \n",
       "86976                                      The Rehearsal   \n",
       "86977                                          Safeguard   \n",
       "86978                                              Coven   \n",
       "\n",
       "                                   originalTitle  isAdult  startYear  endYear  \\\n",
       "0                                 Kate & Leopold        0     2001.0      NaN   \n",
       "1      El tango del viudo y su espejo deformante        0     2020.0      NaN   \n",
       "2                     The Other Side of the Wind        0     2018.0      NaN   \n",
       "3                              The Naked Monster        0     2005.0      NaN   \n",
       "4                           Crime and Punishment        0     2002.0      NaN   \n",
       "...                                          ...      ...        ...      ...   \n",
       "86974                 La vida sense la Sara Amat        0     2019.0      NaN   \n",
       "86975                  My Girlfriend is a Wizard        0     2019.0      NaN   \n",
       "86976                                   O Ensaio        0     2019.0      NaN   \n",
       "86977                                  Safeguard        0     2020.0      NaN   \n",
       "86978                                   Akelarre        0     2020.0      NaN   \n",
       "\n",
       "       runtimeMinutes                     genres  \n",
       "0                 118     Comedy,Fantasy,Romance  \n",
       "1                  70                      Drama  \n",
       "2                 122                      Drama  \n",
       "3                 100       Comedy,Horror,Sci-Fi  \n",
       "4                 126                      Drama  \n",
       "...               ...                        ...  \n",
       "86974              74                      Drama  \n",
       "86975              97       Comedy,Drama,Fantasy  \n",
       "86976              51                      Drama  \n",
       "86977              95  Action,Adventure,Thriller  \n",
       "86978              92              Drama,History  \n",
       "\n",
       "[86979 rows x 10 columns]"
      ]
     },
     "execution_count": 8,
     "metadata": {},
     "output_type": "execute_result"
    }
   ],
   "source": [
    "import pandas as pd\n",
    "basics = pd.read_csv('Data/movie_basics.csv')\n",
    "basics"
   ]
  },
  {
   "cell_type": "code",
   "execution_count": 9,
   "id": "5b4186ff-8404-454d-a4a9-d2b954b431b2",
   "metadata": {},
   "outputs": [
    {
     "data": {
      "text/html": [
       "<div>\n",
       "<style scoped>\n",
       "    .dataframe tbody tr th:only-of-type {\n",
       "        vertical-align: middle;\n",
       "    }\n",
       "\n",
       "    .dataframe tbody tr th {\n",
       "        vertical-align: top;\n",
       "    }\n",
       "\n",
       "    .dataframe thead th {\n",
       "        text-align: right;\n",
       "    }\n",
       "</style>\n",
       "<table border=\"1\" class=\"dataframe\">\n",
       "  <thead>\n",
       "    <tr style=\"text-align: right;\">\n",
       "      <th></th>\n",
       "      <th>tconst</th>\n",
       "      <th>titleType</th>\n",
       "      <th>primaryTitle</th>\n",
       "      <th>originalTitle</th>\n",
       "      <th>isAdult</th>\n",
       "      <th>startYear</th>\n",
       "      <th>endYear</th>\n",
       "      <th>runtimeMinutes</th>\n",
       "      <th>genres</th>\n",
       "    </tr>\n",
       "  </thead>\n",
       "  <tbody>\n",
       "    <tr>\n",
       "      <th>0</th>\n",
       "      <td>tt0035423</td>\n",
       "      <td>movie</td>\n",
       "      <td>Kate &amp; Leopold</td>\n",
       "      <td>Kate &amp; Leopold</td>\n",
       "      <td>0</td>\n",
       "      <td>2001.0</td>\n",
       "      <td>NaN</td>\n",
       "      <td>118</td>\n",
       "      <td>Comedy,Fantasy,Romance</td>\n",
       "    </tr>\n",
       "    <tr>\n",
       "      <th>1</th>\n",
       "      <td>tt0062336</td>\n",
       "      <td>movie</td>\n",
       "      <td>The Tango of the Widower and Its Distorting Mi...</td>\n",
       "      <td>El tango del viudo y su espejo deformante</td>\n",
       "      <td>0</td>\n",
       "      <td>2020.0</td>\n",
       "      <td>NaN</td>\n",
       "      <td>70</td>\n",
       "      <td>Drama</td>\n",
       "    </tr>\n",
       "    <tr>\n",
       "      <th>2</th>\n",
       "      <td>tt0069049</td>\n",
       "      <td>movie</td>\n",
       "      <td>The Other Side of the Wind</td>\n",
       "      <td>The Other Side of the Wind</td>\n",
       "      <td>0</td>\n",
       "      <td>2018.0</td>\n",
       "      <td>NaN</td>\n",
       "      <td>122</td>\n",
       "      <td>Drama</td>\n",
       "    </tr>\n",
       "    <tr>\n",
       "      <th>3</th>\n",
       "      <td>tt0088751</td>\n",
       "      <td>movie</td>\n",
       "      <td>The Naked Monster</td>\n",
       "      <td>The Naked Monster</td>\n",
       "      <td>0</td>\n",
       "      <td>2005.0</td>\n",
       "      <td>NaN</td>\n",
       "      <td>100</td>\n",
       "      <td>Comedy,Horror,Sci-Fi</td>\n",
       "    </tr>\n",
       "    <tr>\n",
       "      <th>4</th>\n",
       "      <td>tt0096056</td>\n",
       "      <td>movie</td>\n",
       "      <td>Crime and Punishment</td>\n",
       "      <td>Crime and Punishment</td>\n",
       "      <td>0</td>\n",
       "      <td>2002.0</td>\n",
       "      <td>NaN</td>\n",
       "      <td>126</td>\n",
       "      <td>Drama</td>\n",
       "    </tr>\n",
       "    <tr>\n",
       "      <th>...</th>\n",
       "      <td>...</td>\n",
       "      <td>...</td>\n",
       "      <td>...</td>\n",
       "      <td>...</td>\n",
       "      <td>...</td>\n",
       "      <td>...</td>\n",
       "      <td>...</td>\n",
       "      <td>...</td>\n",
       "      <td>...</td>\n",
       "    </tr>\n",
       "    <tr>\n",
       "      <th>86974</th>\n",
       "      <td>tt9914942</td>\n",
       "      <td>movie</td>\n",
       "      <td>Life Without Sara Amat</td>\n",
       "      <td>La vida sense la Sara Amat</td>\n",
       "      <td>0</td>\n",
       "      <td>2019.0</td>\n",
       "      <td>NaN</td>\n",
       "      <td>74</td>\n",
       "      <td>Drama</td>\n",
       "    </tr>\n",
       "    <tr>\n",
       "      <th>86975</th>\n",
       "      <td>tt9915872</td>\n",
       "      <td>movie</td>\n",
       "      <td>The Last White Witch</td>\n",
       "      <td>My Girlfriend is a Wizard</td>\n",
       "      <td>0</td>\n",
       "      <td>2019.0</td>\n",
       "      <td>NaN</td>\n",
       "      <td>97</td>\n",
       "      <td>Comedy,Drama,Fantasy</td>\n",
       "    </tr>\n",
       "    <tr>\n",
       "      <th>86976</th>\n",
       "      <td>tt9916170</td>\n",
       "      <td>movie</td>\n",
       "      <td>The Rehearsal</td>\n",
       "      <td>O Ensaio</td>\n",
       "      <td>0</td>\n",
       "      <td>2019.0</td>\n",
       "      <td>NaN</td>\n",
       "      <td>51</td>\n",
       "      <td>Drama</td>\n",
       "    </tr>\n",
       "    <tr>\n",
       "      <th>86977</th>\n",
       "      <td>tt9916190</td>\n",
       "      <td>movie</td>\n",
       "      <td>Safeguard</td>\n",
       "      <td>Safeguard</td>\n",
       "      <td>0</td>\n",
       "      <td>2020.0</td>\n",
       "      <td>NaN</td>\n",
       "      <td>95</td>\n",
       "      <td>Action,Adventure,Thriller</td>\n",
       "    </tr>\n",
       "    <tr>\n",
       "      <th>86978</th>\n",
       "      <td>tt9916362</td>\n",
       "      <td>movie</td>\n",
       "      <td>Coven</td>\n",
       "      <td>Akelarre</td>\n",
       "      <td>0</td>\n",
       "      <td>2020.0</td>\n",
       "      <td>NaN</td>\n",
       "      <td>92</td>\n",
       "      <td>Drama,History</td>\n",
       "    </tr>\n",
       "  </tbody>\n",
       "</table>\n",
       "<p>86979 rows × 9 columns</p>\n",
       "</div>"
      ],
      "text/plain": [
       "          tconst titleType                                       primaryTitle  \\\n",
       "0      tt0035423     movie                                     Kate & Leopold   \n",
       "1      tt0062336     movie  The Tango of the Widower and Its Distorting Mi...   \n",
       "2      tt0069049     movie                         The Other Side of the Wind   \n",
       "3      tt0088751     movie                                  The Naked Monster   \n",
       "4      tt0096056     movie                               Crime and Punishment   \n",
       "...          ...       ...                                                ...   \n",
       "86974  tt9914942     movie                             Life Without Sara Amat   \n",
       "86975  tt9915872     movie                               The Last White Witch   \n",
       "86976  tt9916170     movie                                      The Rehearsal   \n",
       "86977  tt9916190     movie                                          Safeguard   \n",
       "86978  tt9916362     movie                                              Coven   \n",
       "\n",
       "                                   originalTitle  isAdult  startYear  endYear  \\\n",
       "0                                 Kate & Leopold        0     2001.0      NaN   \n",
       "1      El tango del viudo y su espejo deformante        0     2020.0      NaN   \n",
       "2                     The Other Side of the Wind        0     2018.0      NaN   \n",
       "3                              The Naked Monster        0     2005.0      NaN   \n",
       "4                           Crime and Punishment        0     2002.0      NaN   \n",
       "...                                          ...      ...        ...      ...   \n",
       "86974                 La vida sense la Sara Amat        0     2019.0      NaN   \n",
       "86975                  My Girlfriend is a Wizard        0     2019.0      NaN   \n",
       "86976                                   O Ensaio        0     2019.0      NaN   \n",
       "86977                                  Safeguard        0     2020.0      NaN   \n",
       "86978                                   Akelarre        0     2020.0      NaN   \n",
       "\n",
       "       runtimeMinutes                     genres  \n",
       "0                 118     Comedy,Fantasy,Romance  \n",
       "1                  70                      Drama  \n",
       "2                 122                      Drama  \n",
       "3                 100       Comedy,Horror,Sci-Fi  \n",
       "4                 126                      Drama  \n",
       "...               ...                        ...  \n",
       "86974              74                      Drama  \n",
       "86975              97       Comedy,Drama,Fantasy  \n",
       "86976              51                      Drama  \n",
       "86977              95  Action,Adventure,Thriller  \n",
       "86978              92              Drama,History  \n",
       "\n",
       "[86979 rows x 9 columns]"
      ]
     },
     "execution_count": 9,
     "metadata": {},
     "output_type": "execute_result"
    }
   ],
   "source": [
    "basics = basics.drop(columns = 'Unnamed: 0')\n",
    "basics"
   ]
  },
  {
   "cell_type": "code",
   "execution_count": 10,
   "id": "b89660c8-d7b7-4243-9a36-ee221acb24dc",
   "metadata": {},
   "outputs": [],
   "source": [
    "YEAR = 2001\n",
    "errors = []"
   ]
  },
  {
   "cell_type": "code",
   "execution_count": 11,
   "id": "d27ecd5f-9715-4a68-b88c-e4642c593ce9",
   "metadata": {},
   "outputs": [
    {
     "name": "stdout",
     "output_type": "stream",
     "text": [
      "Creating Data/tmdb_api_results_2001.json for API results for year=2001.\n"
     ]
    }
   ],
   "source": [
    "JSON_FILE = f'{FOLDER}tmdb_api_results_{YEAR}.json'\n",
    "\n",
    "file_exists = os.path.isfile(JSON_FILE)\n",
    "\n",
    "if file_exists == False:\n",
    "    print(f\"Creating {JSON_FILE} for API results for year={YEAR}.\")\n",
    "    \n",
    "    with open(JSON_FILE,'w') as f:\n",
    "        json.dump([{'imdb_id':0}],f)\n",
    "\n",
    "else:\n",
    "    print(f'The file {JSON_FILE} already exists.')"
   ]
  },
  {
   "cell_type": "code",
   "execution_count": 12,
   "id": "2b249e6e-2341-4da3-8149-744eeeace94f",
   "metadata": {},
   "outputs": [
    {
     "data": {
      "text/plain": [
       "0     tt0035423\n",
       "10    tt0114447\n",
       "14    tt0116916\n",
       "18    tt0118589\n",
       "19    tt0118652\n",
       "Name: tconst, dtype: object"
      ]
     },
     "execution_count": 12,
     "metadata": {},
     "output_type": "execute_result"
    }
   ],
   "source": [
    "df = basics.loc[ basics['startYear']==YEAR].copy()\n",
    "movie_ids = df['tconst']\n",
    "movie_ids.head()"
   ]
  },
  {
   "cell_type": "code",
   "execution_count": 13,
   "id": "d2b9ec30-abc7-41c6-9893-bcf0c1de024e",
   "metadata": {},
   "outputs": [
    {
     "data": {
      "text/html": [
       "<div>\n",
       "<style scoped>\n",
       "    .dataframe tbody tr th:only-of-type {\n",
       "        vertical-align: middle;\n",
       "    }\n",
       "\n",
       "    .dataframe tbody tr th {\n",
       "        vertical-align: top;\n",
       "    }\n",
       "\n",
       "    .dataframe thead th {\n",
       "        text-align: right;\n",
       "    }\n",
       "</style>\n",
       "<table border=\"1\" class=\"dataframe\">\n",
       "  <thead>\n",
       "    <tr style=\"text-align: right;\">\n",
       "      <th></th>\n",
       "      <th>imdb_id</th>\n",
       "    </tr>\n",
       "  </thead>\n",
       "  <tbody>\n",
       "    <tr>\n",
       "      <th>0</th>\n",
       "      <td>0</td>\n",
       "    </tr>\n",
       "  </tbody>\n",
       "</table>\n",
       "</div>"
      ],
      "text/plain": [
       "   imdb_id\n",
       "0        0"
      ]
     },
     "execution_count": 13,
     "metadata": {},
     "output_type": "execute_result"
    }
   ],
   "source": [
    "previous_df = pd.read_json(JSON_FILE)\n",
    "previous_df"
   ]
  },
  {
   "cell_type": "code",
   "execution_count": 14,
   "id": "865057a5-5284-4cf1-b39c-006304c438a8",
   "metadata": {},
   "outputs": [],
   "source": [
    "movie_ids_to_get = movie_ids[~movie_ids.isin(previous_df['imdb_id'])]"
   ]
  },
  {
   "cell_type": "code",
   "execution_count": 15,
   "id": "d171ccfd-f3f4-4c04-b54f-2519c55d1d29",
   "metadata": {},
   "outputs": [
    {
     "data": {
      "application/vnd.jupyter.widget-view+json": {
       "model_id": "ca957aba75134806ae62a1b0d34ba12f",
       "version_major": 2,
       "version_minor": 0
      },
      "text/plain": [
       "Movies from 2001:   0%|          | 0/1576 [00:00<?, ?it/s]"
      ]
     },
     "metadata": {},
     "output_type": "display_data"
    }
   ],
   "source": [
    "for movie_id in tqdm_notebook(movie_ids_to_get, f\"Movies from {YEAR}\"):\n",
    "    \n",
    "    try:\n",
    "        temp = get_movie_with_rating(movie_id)  \n",
    "\n",
    "        write_json(temp,JSON_FILE)\n",
    "        \n",
    "        time.sleep(0.02)\n",
    "\n",
    "    except Exception as e:\n",
    "        errors.append([movie_id, e])"
   ]
  },
  {
   "cell_type": "code",
   "execution_count": 16,
   "id": "741a022f-b2c1-4a8b-8218-12871cd1c00b",
   "metadata": {},
   "outputs": [
    {
     "name": "stdout",
     "output_type": "stream",
     "text": [
      "- Total errors: 217\n"
     ]
    }
   ],
   "source": [
    "print(f\"- Total errors: {len(errors)}\")"
   ]
  },
  {
   "cell_type": "code",
   "execution_count": 17,
   "id": "63a3e9db-2325-4e83-b271-dcbc197e7b15",
   "metadata": {},
   "outputs": [],
   "source": [
    "final_year_df = pd.read_json(JSON_FILE)\n",
    "csv_fname = f\"{FOLDER}final_tmdb_data_{YEAR}.csv.gz\"\n",
    "final_year_df.to_csv(csv_fname, compression=\"gzip\", index=False)"
   ]
  },
  {
   "cell_type": "code",
   "execution_count": 18,
   "id": "22314893-418e-4a56-92e5-8ddfc113c3d2",
   "metadata": {},
   "outputs": [],
   "source": [
    "YEAR = 2002\n",
    "errors = []"
   ]
  },
  {
   "cell_type": "code",
   "execution_count": 19,
   "id": "57f3f27c-d9a2-49f0-8fe5-1fe16d4e84e4",
   "metadata": {},
   "outputs": [
    {
     "name": "stdout",
     "output_type": "stream",
     "text": [
      "Creating Data/tmdb_api_results_2002.json for API results for year=2002.\n"
     ]
    }
   ],
   "source": [
    "JSON_FILE = f'{FOLDER}tmdb_api_results_{YEAR}.json'\n",
    "\n",
    "file_exists = os.path.isfile(JSON_FILE)\n",
    "\n",
    "if file_exists == False:\n",
    "    print(f\"Creating {JSON_FILE} for API results for year={YEAR}.\")\n",
    "    \n",
    "    with open(JSON_FILE,'w') as f:\n",
    "        json.dump([{'imdb_id':0}],f)\n",
    "\n",
    "else:\n",
    "    print(f'The file {JSON_FILE} already exists.')"
   ]
  },
  {
   "cell_type": "code",
   "execution_count": 20,
   "id": "ea7a751f-d93c-49fa-859a-26ee98b6add8",
   "metadata": {},
   "outputs": [
    {
     "data": {
      "text/plain": [
       "4     tt0096056\n",
       "23    tt0118926\n",
       "32    tt0119980\n",
       "44    tt0120679\n",
       "51    tt0120804\n",
       "Name: tconst, dtype: object"
      ]
     },
     "execution_count": 20,
     "metadata": {},
     "output_type": "execute_result"
    }
   ],
   "source": [
    "df = basics.loc[ basics['startYear']==YEAR].copy()\n",
    "movie_ids = df['tconst']\n",
    "movie_ids.head()"
   ]
  },
  {
   "cell_type": "code",
   "execution_count": 21,
   "id": "a9e1c35b-e7a4-435d-aeca-b471625a1a7e",
   "metadata": {},
   "outputs": [
    {
     "data": {
      "text/html": [
       "<div>\n",
       "<style scoped>\n",
       "    .dataframe tbody tr th:only-of-type {\n",
       "        vertical-align: middle;\n",
       "    }\n",
       "\n",
       "    .dataframe tbody tr th {\n",
       "        vertical-align: top;\n",
       "    }\n",
       "\n",
       "    .dataframe thead th {\n",
       "        text-align: right;\n",
       "    }\n",
       "</style>\n",
       "<table border=\"1\" class=\"dataframe\">\n",
       "  <thead>\n",
       "    <tr style=\"text-align: right;\">\n",
       "      <th></th>\n",
       "      <th>imdb_id</th>\n",
       "    </tr>\n",
       "  </thead>\n",
       "  <tbody>\n",
       "    <tr>\n",
       "      <th>0</th>\n",
       "      <td>0</td>\n",
       "    </tr>\n",
       "  </tbody>\n",
       "</table>\n",
       "</div>"
      ],
      "text/plain": [
       "   imdb_id\n",
       "0        0"
      ]
     },
     "execution_count": 21,
     "metadata": {},
     "output_type": "execute_result"
    }
   ],
   "source": [
    "# Load existing data from json into a dataframe called \"previous_df\"\n",
    "previous_df = pd.read_json(JSON_FILE)\n",
    "previous_df"
   ]
  },
  {
   "cell_type": "code",
   "execution_count": 22,
   "id": "2d5896cc-d4ff-427e-a177-0eb9157c639b",
   "metadata": {},
   "outputs": [],
   "source": [
    "movie_ids_to_get = movie_ids[~movie_ids.isin(previous_df['imdb_id'])]"
   ]
  },
  {
   "cell_type": "code",
   "execution_count": 23,
   "id": "bbc929f1-5c17-4386-a0c7-2991a59658e5",
   "metadata": {},
   "outputs": [
    {
     "data": {
      "application/vnd.jupyter.widget-view+json": {
       "model_id": "67f585668fbb4dad8392015ae500270e",
       "version_major": 2,
       "version_minor": 0
      },
      "text/plain": [
       "Movies from 2002:   0%|          | 0/1572 [00:00<?, ?it/s]"
      ]
     },
     "metadata": {},
     "output_type": "display_data"
    }
   ],
   "source": [
    "for movie_id in tqdm_notebook(movie_ids_to_get, f\"Movies from {YEAR}\"):\n",
    "    \n",
    "    try:\n",
    "        temp = get_movie_with_rating(movie_id)  \n",
    "\n",
    "        write_json(temp,JSON_FILE)\n",
    "        \n",
    "        time.sleep(0.02)\n",
    "\n",
    "    except Exception as e:\n",
    "        errors.append([movie_id, e])"
   ]
  },
  {
   "cell_type": "code",
   "execution_count": 24,
   "id": "72c94c18-b61c-4f51-9839-11b668b1a005",
   "metadata": {},
   "outputs": [
    {
     "name": "stdout",
     "output_type": "stream",
     "text": [
      "- Total errors: 278\n"
     ]
    }
   ],
   "source": [
    "print(f\"- Total errors: {len(errors)}\")"
   ]
  },
  {
   "cell_type": "code",
   "execution_count": 25,
   "id": "df2459fb-64f7-4e38-aae9-0ad19d05d32d",
   "metadata": {},
   "outputs": [],
   "source": [
    "final_year_df = pd.read_json(JSON_FILE)\n",
    "csv_fname = f\"{FOLDER}final_tmdb_data_{YEAR}.csv.gz\"\n",
    "final_year_df.to_csv(csv_fname, compression=\"gzip\", index=False)"
   ]
  },
  {
   "cell_type": "code",
   "execution_count": 26,
   "id": "f2ca89ce-cc87-46fc-9e0f-edbe85fb80e9",
   "metadata": {},
   "outputs": [
    {
     "data": {
      "text/plain": [
       "['Data/final_tmdb_data_2001.csv.gz', 'Data/final_tmdb_data_2002.csv.gz']"
      ]
     },
     "execution_count": 26,
     "metadata": {},
     "output_type": "execute_result"
    }
   ],
   "source": [
    "import glob\n",
    "tmdb_files = sorted(glob.glob(\"Data/final_tmdb_data*.csv.gz\"))\n",
    "tmdb_files"
   ]
  },
  {
   "cell_type": "code",
   "execution_count": 29,
   "id": "0da2c93e-a892-43f3-8b11-47e55091c397",
   "metadata": {},
   "outputs": [
    {
     "name": "stdout",
     "output_type": "stream",
     "text": [
      "<class 'pandas.core.frame.DataFrame'>\n",
      "Int64Index: 2655 entries, 0 to 1294\n",
      "Data columns (total 26 columns):\n",
      " #   Column                 Non-Null Count  Dtype  \n",
      "---  ------                 --------------  -----  \n",
      " 0   imdb_id                2655 non-null   object \n",
      " 1   adult                  2653 non-null   float64\n",
      " 2   backdrop_path          1525 non-null   object \n",
      " 3   belongs_to_collection  217 non-null    object \n",
      " 4   budget                 2653 non-null   float64\n",
      " 5   genres                 2653 non-null   object \n",
      " 6   homepage               213 non-null    object \n",
      " 7   id                     2653 non-null   float64\n",
      " 8   original_language      2653 non-null   object \n",
      " 9   original_title         2653 non-null   object \n",
      " 10  overview               2593 non-null   object \n",
      " 11  popularity             2653 non-null   float64\n",
      " 12  poster_path            2411 non-null   object \n",
      " 13  production_companies   2653 non-null   object \n",
      " 14  production_countries   2653 non-null   object \n",
      " 15  release_date           2629 non-null   object \n",
      " 16  revenue                2653 non-null   float64\n",
      " 17  runtime                2653 non-null   float64\n",
      " 18  spoken_languages       2653 non-null   object \n",
      " 19  status                 2653 non-null   object \n",
      " 20  tagline                1153 non-null   object \n",
      " 21  title                  2653 non-null   object \n",
      " 22  video                  2653 non-null   float64\n",
      " 23  vote_average           2653 non-null   float64\n",
      " 24  vote_count             2653 non-null   float64\n",
      " 25  certification          870 non-null    object \n",
      "dtypes: float64(9), object(17)\n",
      "memory usage: 560.0+ KB\n"
     ]
    }
   ],
   "source": [
    "df = pd.concat([pd.read_csv(f) for f in tmdb_files] )\n",
    "df\n",
    "df.info()"
   ]
  },
  {
   "cell_type": "code",
   "execution_count": 30,
   "id": "bf762cf5-b538-4725-abf1-0d4d2a2e9fa4",
   "metadata": {},
   "outputs": [],
   "source": [
    "df.to_csv('Data/tmdb_results_combined', compression = \"gzip\")"
   ]
  }
 ],
 "metadata": {
  "kernelspec": {
   "display_name": "Python (dojo-env)",
   "language": "python",
   "name": "dojo-env"
  },
  "language_info": {
   "codemirror_mode": {
    "name": "ipython",
    "version": 3
   },
   "file_extension": ".py",
   "mimetype": "text/x-python",
   "name": "python",
   "nbconvert_exporter": "python",
   "pygments_lexer": "ipython3",
   "version": "3.10.10"
  },
  "widgets": {
   "application/vnd.jupyter.widget-state+json": {
    "state": {
     "06f4a25a016646a7b295a7121d0be73f": {
      "model_module": "@jupyter-widgets/controls",
      "model_module_version": "2.0.0",
      "model_name": "FloatProgressModel",
      "state": {
       "bar_style": "success",
       "layout": "IPY_MODEL_abe293f1b3044c31abc95b1d1cf978f1",
       "max": 1572,
       "style": "IPY_MODEL_31e1e122c7a548c8b8ebb954f145778a",
       "value": 1572
      }
     },
     "0871329102b8412f933eed2547b87845": {
      "model_module": "@jupyter-widgets/controls",
      "model_module_version": "2.0.0",
      "model_name": "HTMLModel",
      "state": {
       "layout": "IPY_MODEL_6309e2bf3dfe46c3a1001712688d7ace",
       "style": "IPY_MODEL_9daea9697fe649d7bc709225caeb906a",
       "value": " 1576/1576 [09:52&lt;00:00,  4.84it/s]"
      }
     },
     "31e1e122c7a548c8b8ebb954f145778a": {
      "model_module": "@jupyter-widgets/controls",
      "model_module_version": "2.0.0",
      "model_name": "ProgressStyleModel",
      "state": {
       "description_width": ""
      }
     },
     "37c080b63ee240b5bf526a21df807065": {
      "model_module": "@jupyter-widgets/base",
      "model_module_version": "2.0.0",
      "model_name": "LayoutModel",
      "state": {}
     },
     "4bad71c9c28448cc8d989b5ea04fdf02": {
      "model_module": "@jupyter-widgets/base",
      "model_module_version": "2.0.0",
      "model_name": "LayoutModel",
      "state": {}
     },
     "6309e2bf3dfe46c3a1001712688d7ace": {
      "model_module": "@jupyter-widgets/base",
      "model_module_version": "2.0.0",
      "model_name": "LayoutModel",
      "state": {}
     },
     "67f585668fbb4dad8392015ae500270e": {
      "model_module": "@jupyter-widgets/controls",
      "model_module_version": "2.0.0",
      "model_name": "HBoxModel",
      "state": {
       "children": [
        "IPY_MODEL_92de060441ea4a6eb0a20588458e9b66",
        "IPY_MODEL_06f4a25a016646a7b295a7121d0be73f",
        "IPY_MODEL_ce643103021040d683b82539d2caee25"
       ],
       "layout": "IPY_MODEL_37c080b63ee240b5bf526a21df807065"
      }
     },
     "72c27175eb9a4f4c8f1e111685c950fa": {
      "model_module": "@jupyter-widgets/controls",
      "model_module_version": "2.0.0",
      "model_name": "ProgressStyleModel",
      "state": {
       "description_width": ""
      }
     },
     "8539f2140e754a11b71ef15e56f08126": {
      "model_module": "@jupyter-widgets/controls",
      "model_module_version": "2.0.0",
      "model_name": "HTMLStyleModel",
      "state": {
       "description_width": "",
       "font_size": null,
       "text_color": null
      }
     },
     "92de060441ea4a6eb0a20588458e9b66": {
      "model_module": "@jupyter-widgets/controls",
      "model_module_version": "2.0.0",
      "model_name": "HTMLModel",
      "state": {
       "layout": "IPY_MODEL_a3164350c5a3489c9f628d5cffb48607",
       "style": "IPY_MODEL_dbbd9ad675e44a16b44bbc19f0229147",
       "value": "Movies from 2002: 100%"
      }
     },
     "953d52f1603f4b7093b93377e2783220": {
      "model_module": "@jupyter-widgets/controls",
      "model_module_version": "2.0.0",
      "model_name": "HTMLModel",
      "state": {
       "layout": "IPY_MODEL_a2bf33f274ed45aaa4af9e5f221f84c1",
       "style": "IPY_MODEL_db6b053c272f4acab64dce7b48657905",
       "value": "Movies from 2001: 100%"
      }
     },
     "9daea9697fe649d7bc709225caeb906a": {
      "model_module": "@jupyter-widgets/controls",
      "model_module_version": "2.0.0",
      "model_name": "HTMLStyleModel",
      "state": {
       "description_width": "",
       "font_size": null,
       "text_color": null
      }
     },
     "a2bf33f274ed45aaa4af9e5f221f84c1": {
      "model_module": "@jupyter-widgets/base",
      "model_module_version": "2.0.0",
      "model_name": "LayoutModel",
      "state": {}
     },
     "a3164350c5a3489c9f628d5cffb48607": {
      "model_module": "@jupyter-widgets/base",
      "model_module_version": "2.0.0",
      "model_name": "LayoutModel",
      "state": {}
     },
     "aa5d14acc0184d43a3263a26276fdd88": {
      "model_module": "@jupyter-widgets/base",
      "model_module_version": "2.0.0",
      "model_name": "LayoutModel",
      "state": {}
     },
     "abe293f1b3044c31abc95b1d1cf978f1": {
      "model_module": "@jupyter-widgets/base",
      "model_module_version": "2.0.0",
      "model_name": "LayoutModel",
      "state": {}
     },
     "ca957aba75134806ae62a1b0d34ba12f": {
      "model_module": "@jupyter-widgets/controls",
      "model_module_version": "2.0.0",
      "model_name": "HBoxModel",
      "state": {
       "children": [
        "IPY_MODEL_953d52f1603f4b7093b93377e2783220",
        "IPY_MODEL_d94bb74b668b4c4b9e08ce11df1cb8bf",
        "IPY_MODEL_0871329102b8412f933eed2547b87845"
       ],
       "layout": "IPY_MODEL_4bad71c9c28448cc8d989b5ea04fdf02"
      }
     },
     "ce643103021040d683b82539d2caee25": {
      "model_module": "@jupyter-widgets/controls",
      "model_module_version": "2.0.0",
      "model_name": "HTMLModel",
      "state": {
       "layout": "IPY_MODEL_f4cbd07fa3224f99b092e84d576521d4",
       "style": "IPY_MODEL_8539f2140e754a11b71ef15e56f08126",
       "value": " 1572/1572 [08:39&lt;00:00,  4.48it/s]"
      }
     },
     "d94bb74b668b4c4b9e08ce11df1cb8bf": {
      "model_module": "@jupyter-widgets/controls",
      "model_module_version": "2.0.0",
      "model_name": "FloatProgressModel",
      "state": {
       "bar_style": "success",
       "layout": "IPY_MODEL_aa5d14acc0184d43a3263a26276fdd88",
       "max": 1576,
       "style": "IPY_MODEL_72c27175eb9a4f4c8f1e111685c950fa",
       "value": 1576
      }
     },
     "db6b053c272f4acab64dce7b48657905": {
      "model_module": "@jupyter-widgets/controls",
      "model_module_version": "2.0.0",
      "model_name": "HTMLStyleModel",
      "state": {
       "description_width": "",
       "font_size": null,
       "text_color": null
      }
     },
     "dbbd9ad675e44a16b44bbc19f0229147": {
      "model_module": "@jupyter-widgets/controls",
      "model_module_version": "2.0.0",
      "model_name": "HTMLStyleModel",
      "state": {
       "description_width": "",
       "font_size": null,
       "text_color": null
      }
     },
     "f4cbd07fa3224f99b092e84d576521d4": {
      "model_module": "@jupyter-widgets/base",
      "model_module_version": "2.0.0",
      "model_name": "LayoutModel",
      "state": {}
     }
    },
    "version_major": 2,
    "version_minor": 0
   }
  }
 },
 "nbformat": 4,
 "nbformat_minor": 5
}
