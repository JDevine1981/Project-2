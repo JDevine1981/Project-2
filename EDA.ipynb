{
 "cells": [
  {
   "cell_type": "code",
   "execution_count": 3,
   "id": "4e7c4d4f-0349-44cf-9c5f-bcdc4e7d7bb5",
   "metadata": {},
   "outputs": [],
   "source": [
    "import pandas as pd\n",
    "import numpy as np"
   ]
  },
  {
   "cell_type": "code",
   "execution_count": 4,
   "id": "14328585-756d-4cfc-b119-62499afa301a",
   "metadata": {},
   "outputs": [
    {
     "name": "stdout",
     "output_type": "stream",
     "text": [
      "<class 'pandas.core.frame.DataFrame'>\n",
      "RangeIndex: 2655 entries, 0 to 2654\n",
      "Data columns (total 27 columns):\n",
      " #   Column                 Non-Null Count  Dtype  \n",
      "---  ------                 --------------  -----  \n",
      " 0   Unnamed: 0             2655 non-null   int64  \n",
      " 1   imdb_id                2655 non-null   object \n",
      " 2   adult                  2653 non-null   float64\n",
      " 3   backdrop_path          1525 non-null   object \n",
      " 4   belongs_to_collection  217 non-null    object \n",
      " 5   budget                 2653 non-null   float64\n",
      " 6   genres                 2653 non-null   object \n",
      " 7   homepage               213 non-null    object \n",
      " 8   id                     2653 non-null   float64\n",
      " 9   original_language      2653 non-null   object \n",
      " 10  original_title         2653 non-null   object \n",
      " 11  overview               2593 non-null   object \n",
      " 12  popularity             2653 non-null   float64\n",
      " 13  poster_path            2411 non-null   object \n",
      " 14  production_companies   2653 non-null   object \n",
      " 15  production_countries   2653 non-null   object \n",
      " 16  release_date           2629 non-null   object \n",
      " 17  revenue                2653 non-null   float64\n",
      " 18  runtime                2653 non-null   float64\n",
      " 19  spoken_languages       2653 non-null   object \n",
      " 20  status                 2653 non-null   object \n",
      " 21  tagline                1153 non-null   object \n",
      " 22  title                  2653 non-null   object \n",
      " 23  video                  2653 non-null   float64\n",
      " 24  vote_average           2653 non-null   float64\n",
      " 25  vote_count             2653 non-null   float64\n",
      " 26  certification          870 non-null    object \n",
      "dtypes: float64(9), int64(1), object(17)\n",
      "memory usage: 560.2+ KB\n"
     ]
    },
    {
     "data": {
      "text/html": [
       "<div>\n",
       "<style scoped>\n",
       "    .dataframe tbody tr th:only-of-type {\n",
       "        vertical-align: middle;\n",
       "    }\n",
       "\n",
       "    .dataframe tbody tr th {\n",
       "        vertical-align: top;\n",
       "    }\n",
       "\n",
       "    .dataframe thead th {\n",
       "        text-align: right;\n",
       "    }\n",
       "</style>\n",
       "<table border=\"1\" class=\"dataframe\">\n",
       "  <thead>\n",
       "    <tr style=\"text-align: right;\">\n",
       "      <th></th>\n",
       "      <th>Unnamed: 0</th>\n",
       "      <th>imdb_id</th>\n",
       "      <th>adult</th>\n",
       "      <th>backdrop_path</th>\n",
       "      <th>belongs_to_collection</th>\n",
       "      <th>budget</th>\n",
       "      <th>genres</th>\n",
       "      <th>homepage</th>\n",
       "      <th>id</th>\n",
       "      <th>original_language</th>\n",
       "      <th>...</th>\n",
       "      <th>revenue</th>\n",
       "      <th>runtime</th>\n",
       "      <th>spoken_languages</th>\n",
       "      <th>status</th>\n",
       "      <th>tagline</th>\n",
       "      <th>title</th>\n",
       "      <th>video</th>\n",
       "      <th>vote_average</th>\n",
       "      <th>vote_count</th>\n",
       "      <th>certification</th>\n",
       "    </tr>\n",
       "  </thead>\n",
       "  <tbody>\n",
       "    <tr>\n",
       "      <th>0</th>\n",
       "      <td>0</td>\n",
       "      <td>0</td>\n",
       "      <td>NaN</td>\n",
       "      <td>NaN</td>\n",
       "      <td>NaN</td>\n",
       "      <td>NaN</td>\n",
       "      <td>NaN</td>\n",
       "      <td>NaN</td>\n",
       "      <td>NaN</td>\n",
       "      <td>NaN</td>\n",
       "      <td>...</td>\n",
       "      <td>NaN</td>\n",
       "      <td>NaN</td>\n",
       "      <td>NaN</td>\n",
       "      <td>NaN</td>\n",
       "      <td>NaN</td>\n",
       "      <td>NaN</td>\n",
       "      <td>NaN</td>\n",
       "      <td>NaN</td>\n",
       "      <td>NaN</td>\n",
       "      <td>NaN</td>\n",
       "    </tr>\n",
       "    <tr>\n",
       "      <th>1</th>\n",
       "      <td>1</td>\n",
       "      <td>tt0035423</td>\n",
       "      <td>0.0</td>\n",
       "      <td>/tJLV3BAlHOgscVOrA99Wnb2gAef.jpg</td>\n",
       "      <td>NaN</td>\n",
       "      <td>48000000.0</td>\n",
       "      <td>[{'id': 10749, 'name': 'Romance'}, {'id': 14, ...</td>\n",
       "      <td>NaN</td>\n",
       "      <td>11232.0</td>\n",
       "      <td>en</td>\n",
       "      <td>...</td>\n",
       "      <td>76019048.0</td>\n",
       "      <td>118.0</td>\n",
       "      <td>[{'english_name': 'French', 'iso_639_1': 'fr',...</td>\n",
       "      <td>Released</td>\n",
       "      <td>If they lived in the same century, they'd be p...</td>\n",
       "      <td>Kate &amp; Leopold</td>\n",
       "      <td>0.0</td>\n",
       "      <td>6.300</td>\n",
       "      <td>1238.0</td>\n",
       "      <td>PG-13</td>\n",
       "    </tr>\n",
       "    <tr>\n",
       "      <th>2</th>\n",
       "      <td>2</td>\n",
       "      <td>tt0114447</td>\n",
       "      <td>0.0</td>\n",
       "      <td>NaN</td>\n",
       "      <td>NaN</td>\n",
       "      <td>0.0</td>\n",
       "      <td>[{'id': 53, 'name': 'Thriller'}, {'id': 28, 'n...</td>\n",
       "      <td>NaN</td>\n",
       "      <td>151007.0</td>\n",
       "      <td>en</td>\n",
       "      <td>...</td>\n",
       "      <td>0.0</td>\n",
       "      <td>90.0</td>\n",
       "      <td>[{'english_name': 'English', 'iso_639_1': 'en'...</td>\n",
       "      <td>Released</td>\n",
       "      <td>They left him for dead... They should have fin...</td>\n",
       "      <td>The Silent Force</td>\n",
       "      <td>0.0</td>\n",
       "      <td>5.000</td>\n",
       "      <td>3.0</td>\n",
       "      <td>NaN</td>\n",
       "    </tr>\n",
       "    <tr>\n",
       "      <th>3</th>\n",
       "      <td>3</td>\n",
       "      <td>tt0116916</td>\n",
       "      <td>0.0</td>\n",
       "      <td>/rFpHBidSlhjflmnLu7BZilyKeQR.jpg</td>\n",
       "      <td>NaN</td>\n",
       "      <td>0.0</td>\n",
       "      <td>[{'id': 28, 'name': 'Action'}, {'id': 12, 'nam...</td>\n",
       "      <td>NaN</td>\n",
       "      <td>73549.0</td>\n",
       "      <td>en</td>\n",
       "      <td>...</td>\n",
       "      <td>0.0</td>\n",
       "      <td>101.0</td>\n",
       "      <td>[{'english_name': 'English', 'iso_639_1': 'en'...</td>\n",
       "      <td>Released</td>\n",
       "      <td>NaN</td>\n",
       "      <td>The Dark Mist</td>\n",
       "      <td>0.0</td>\n",
       "      <td>3.500</td>\n",
       "      <td>2.0</td>\n",
       "      <td>PG</td>\n",
       "    </tr>\n",
       "    <tr>\n",
       "      <th>4</th>\n",
       "      <td>4</td>\n",
       "      <td>tt0118589</td>\n",
       "      <td>0.0</td>\n",
       "      <td>/9NZAirJahVilTiDNCHLFcdkwkiy.jpg</td>\n",
       "      <td>NaN</td>\n",
       "      <td>22000000.0</td>\n",
       "      <td>[{'id': 18, 'name': 'Drama'}, {'id': 10402, 'n...</td>\n",
       "      <td>NaN</td>\n",
       "      <td>10696.0</td>\n",
       "      <td>en</td>\n",
       "      <td>...</td>\n",
       "      <td>5271666.0</td>\n",
       "      <td>104.0</td>\n",
       "      <td>[{'english_name': 'English', 'iso_639_1': 'en'...</td>\n",
       "      <td>Released</td>\n",
       "      <td>In music she found her dream, her love, herself.</td>\n",
       "      <td>Glitter</td>\n",
       "      <td>0.0</td>\n",
       "      <td>4.405</td>\n",
       "      <td>132.0</td>\n",
       "      <td>PG-13</td>\n",
       "    </tr>\n",
       "  </tbody>\n",
       "</table>\n",
       "<p>5 rows × 27 columns</p>\n",
       "</div>"
      ],
      "text/plain": [
       "   Unnamed: 0    imdb_id  adult                     backdrop_path  \\\n",
       "0           0          0    NaN                               NaN   \n",
       "1           1  tt0035423    0.0  /tJLV3BAlHOgscVOrA99Wnb2gAef.jpg   \n",
       "2           2  tt0114447    0.0                               NaN   \n",
       "3           3  tt0116916    0.0  /rFpHBidSlhjflmnLu7BZilyKeQR.jpg   \n",
       "4           4  tt0118589    0.0  /9NZAirJahVilTiDNCHLFcdkwkiy.jpg   \n",
       "\n",
       "  belongs_to_collection      budget  \\\n",
       "0                   NaN         NaN   \n",
       "1                   NaN  48000000.0   \n",
       "2                   NaN         0.0   \n",
       "3                   NaN         0.0   \n",
       "4                   NaN  22000000.0   \n",
       "\n",
       "                                              genres homepage        id  \\\n",
       "0                                                NaN      NaN       NaN   \n",
       "1  [{'id': 10749, 'name': 'Romance'}, {'id': 14, ...      NaN   11232.0   \n",
       "2  [{'id': 53, 'name': 'Thriller'}, {'id': 28, 'n...      NaN  151007.0   \n",
       "3  [{'id': 28, 'name': 'Action'}, {'id': 12, 'nam...      NaN   73549.0   \n",
       "4  [{'id': 18, 'name': 'Drama'}, {'id': 10402, 'n...      NaN   10696.0   \n",
       "\n",
       "  original_language  ...     revenue runtime  \\\n",
       "0               NaN  ...         NaN     NaN   \n",
       "1                en  ...  76019048.0   118.0   \n",
       "2                en  ...         0.0    90.0   \n",
       "3                en  ...         0.0   101.0   \n",
       "4                en  ...   5271666.0   104.0   \n",
       "\n",
       "                                    spoken_languages    status  \\\n",
       "0                                                NaN       NaN   \n",
       "1  [{'english_name': 'French', 'iso_639_1': 'fr',...  Released   \n",
       "2  [{'english_name': 'English', 'iso_639_1': 'en'...  Released   \n",
       "3  [{'english_name': 'English', 'iso_639_1': 'en'...  Released   \n",
       "4  [{'english_name': 'English', 'iso_639_1': 'en'...  Released   \n",
       "\n",
       "                                             tagline             title video  \\\n",
       "0                                                NaN               NaN   NaN   \n",
       "1  If they lived in the same century, they'd be p...    Kate & Leopold   0.0   \n",
       "2  They left him for dead... They should have fin...  The Silent Force   0.0   \n",
       "3                                                NaN     The Dark Mist   0.0   \n",
       "4   In music she found her dream, her love, herself.           Glitter   0.0   \n",
       "\n",
       "   vote_average  vote_count certification  \n",
       "0           NaN         NaN           NaN  \n",
       "1         6.300      1238.0         PG-13  \n",
       "2         5.000         3.0           NaN  \n",
       "3         3.500         2.0            PG  \n",
       "4         4.405       132.0         PG-13  \n",
       "\n",
       "[5 rows x 27 columns]"
      ]
     },
     "execution_count": 4,
     "metadata": {},
     "output_type": "execute_result"
    }
   ],
   "source": [
    "# Load in Raw Data\n",
    "df = pd.read_csv('Data/tmdb_results_combined.csv.gz')\n",
    "df.info()\n",
    "df.head(5)"
   ]
  },
  {
   "cell_type": "code",
   "execution_count": 5,
   "id": "62478018-7cf2-48e2-bf59-d7e31557c86c",
   "metadata": {},
   "outputs": [],
   "source": [
    "df = df.drop(columns = \"Unnamed: 0\")"
   ]
  },
  {
   "cell_type": "code",
   "execution_count": 6,
   "id": "8aa8fe07-51a8-4065-9355-4d00ff22deb2",
   "metadata": {},
   "outputs": [],
   "source": [
    "import matplotlib.pyplot as plt\n",
    "import seaborn as sns"
   ]
  },
  {
   "cell_type": "markdown",
   "id": "457e0864-f3fa-467c-8f5f-cb6bf4381503",
   "metadata": {},
   "source": [
    "# How many movies had at least some valid financial information (values > 0 for budget OR revenue)?"
   ]
  },
  {
   "cell_type": "code",
   "execution_count": 7,
   "id": "27de1646-7634-497c-807b-62e4f8b03610",
   "metadata": {},
   "outputs": [
    {
     "data": {
      "image/png": "[encoded data removed]",
      "text/plain": [
       "<Figure size 640x480 with 1 Axes>"
      ]
     },
     "metadata": {},
     "output_type": "display_data"
    }
   ],
   "source": [
    "ax = df['budget'].hist()\n",
    "ax.ticklabel_format(style='plain')\n",
    "ax.tick_params(axis='x', rotation = 45)\n",
    "ax.set_title('Distribution of Budget')\n",
    "ax.set_xlabel('Budget')\n",
    "ax.set_ylabel('Movies');"
   ]
  },
  {
   "cell_type": "code",
   "execution_count": 32,
   "id": "983e7d1b-622b-41fa-bed8-513a7a32782d",
   "metadata": {},
   "outputs": [
    {
     "data": {
      "text/plain": [
       "409"
      ]
     },
     "execution_count": 32,
     "metadata": {},
     "output_type": "execute_result"
    }
   ],
   "source": [
    "budget_above_0 = df['budget'] > 0\n",
    "budget_above_0.sum()"
   ]
  },
  {
   "cell_type": "code",
   "execution_count": 8,
   "id": "e604ad17-0cdc-45fd-b46d-e677d54ed4f0",
   "metadata": {},
   "outputs": [
    {
     "data": {
      "image/png": "[encoded data removed]",
      "text/plain": [
       "<Figure size 640x480 with 1 Axes>"
      ]
     },
     "metadata": {},
     "output_type": "display_data"
    }
   ],
   "source": [
    "ax = df['revenue'].hist()\n",
    "ax.ticklabel_format(style='plain')\n",
    "ax.tick_params(axis='x', rotation = 45)\n",
    "ax.set_title('Distribution of Revenue')\n",
    "ax.set_xlabel('Revenue')\n",
    "ax.set_ylabel('Movies');"
   ]
  },
  {
   "cell_type": "code",
   "execution_count": 31,
   "id": "314b8158-b799-4ecb-8991-27a6024c537c",
   "metadata": {},
   "outputs": [
    {
     "data": {
      "text/plain": [
       "409"
      ]
     },
     "execution_count": 31,
     "metadata": {},
     "output_type": "execute_result"
    }
   ],
   "source": [
    "revenue_above_0 = df['revenue'] > 0\n",
    "revenue_above_0.sum()"
   ]
  },
  {
   "cell_type": "markdown",
   "id": "83cf4509-a00c-4137-9d3a-6468317bfe6d",
   "metadata": {},
   "source": [
    "# Per assignment instructions, please exclude any movies with 0's for budget AND revenue.\n",
    "# We will filter movies with either 0 budget or revenue, convert the 0 to a null value, and then drop the nulls from each column"
   ]
  },
  {
   "cell_type": "code",
   "execution_count": 9,
   "id": "6aea7a84-517b-4705-9795-2669361f1d7a",
   "metadata": {},
   "outputs": [
    {
     "data": {
      "text/plain": [
       "2"
      ]
     },
     "execution_count": 9,
     "metadata": {},
     "output_type": "execute_result"
    }
   ],
   "source": [
    "df['budget'].isna().sum()"
   ]
  },
  {
   "cell_type": "code",
   "execution_count": 10,
   "id": "3c717173-1851-48c9-9b62-42048c8c36c4",
   "metadata": {},
   "outputs": [
    {
     "data": {
      "text/plain": [
       "count    2.653000e+03\n",
       "mean     5.250962e+06\n",
       "std      1.704009e+07\n",
       "min      0.000000e+00\n",
       "25%      0.000000e+00\n",
       "50%      0.000000e+00\n",
       "75%      0.000000e+00\n",
       "max      1.400000e+08\n",
       "Name: budget, dtype: float64"
      ]
     },
     "execution_count": 10,
     "metadata": {},
     "output_type": "execute_result"
    }
   ],
   "source": [
    "df['budget'].describe()"
   ]
  },
  {
   "cell_type": "code",
   "execution_count": 11,
   "id": "54c84681-7fcc-40a2-8930-6bf2cf4eed59",
   "metadata": {},
   "outputs": [
    {
     "data": {
      "text/plain": [
       "2037"
      ]
     },
     "execution_count": 11,
     "metadata": {},
     "output_type": "execute_result"
    }
   ],
   "source": [
    "filter_zero_budget = df['budget'] == 0.00\n",
    "filter_zero_budget.sum()"
   ]
  },
  {
   "cell_type": "code",
   "execution_count": 12,
   "id": "60d8c4ee-9f65-4a69-a280-c9ac3db83f5d",
   "metadata": {},
   "outputs": [
    {
     "data": {
      "text/plain": [
       "2039"
      ]
     },
     "execution_count": 12,
     "metadata": {},
     "output_type": "execute_result"
    }
   ],
   "source": [
    "df.loc[filter_zero_budget,'budget'] = np.nan\n",
    "df['budget'].describe()\n",
    "df['budget'].isna().sum()"
   ]
  },
  {
   "cell_type": "code",
   "execution_count": 13,
   "id": "dc3a8521-88d6-4797-98a4-7376e3090976",
   "metadata": {},
   "outputs": [
    {
     "data": {
      "text/plain": [
       "2"
      ]
     },
     "execution_count": 13,
     "metadata": {},
     "output_type": "execute_result"
    }
   ],
   "source": [
    "df['revenue'].isna().sum()"
   ]
  },
  {
   "cell_type": "code",
   "execution_count": 14,
   "id": "d3d678f5-c545-4031-b818-a8ef8f7acba1",
   "metadata": {},
   "outputs": [
    {
     "data": {
      "text/plain": [
       "count    2.653000e+03\n",
       "mean     1.214717e+07\n",
       "std      6.002296e+07\n",
       "min      0.000000e+00\n",
       "25%      0.000000e+00\n",
       "50%      0.000000e+00\n",
       "75%      0.000000e+00\n",
       "max      9.764756e+08\n",
       "Name: revenue, dtype: float64"
      ]
     },
     "execution_count": 14,
     "metadata": {},
     "output_type": "execute_result"
    }
   ],
   "source": [
    "df['revenue'].describe()"
   ]
  },
  {
   "cell_type": "code",
   "execution_count": 15,
   "id": "f3f24a0c-9663-462e-a0b3-b4dc516c5ede",
   "metadata": {},
   "outputs": [
    {
     "data": {
      "text/plain": [
       "2134"
      ]
     },
     "execution_count": 15,
     "metadata": {},
     "output_type": "execute_result"
    }
   ],
   "source": [
    "filter_zero_revenue = df['revenue'] == 0.00\n",
    "filter_zero_revenue.sum()"
   ]
  },
  {
   "cell_type": "code",
   "execution_count": 16,
   "id": "1efc4d31-c0b6-43e2-832d-27cdd85fa405",
   "metadata": {},
   "outputs": [
    {
     "data": {
      "text/plain": [
       "2136"
      ]
     },
     "execution_count": 16,
     "metadata": {},
     "output_type": "execute_result"
    }
   ],
   "source": [
    "df.loc[filter_zero_revenue,'revenue'] = np.nan\n",
    "df['revenue'].describe()\n",
    "df['revenue'].isna().sum()"
   ]
  },
  {
   "cell_type": "code",
   "execution_count": 17,
   "id": "c734be16-39de-431d-9760-771fb4061654",
   "metadata": {},
   "outputs": [],
   "source": [
    "df = df.dropna(subset=[\"budget\",\"revenue\"])"
   ]
  },
  {
   "cell_type": "code",
   "execution_count": 18,
   "id": "ee249ef0-a025-47b8-9fbe-0827584a20bd",
   "metadata": {},
   "outputs": [
    {
     "data": {
      "text/plain": [
       "0"
      ]
     },
     "execution_count": 18,
     "metadata": {},
     "output_type": "execute_result"
    }
   ],
   "source": [
    "df['budget'].isna().sum()"
   ]
  },
  {
   "cell_type": "code",
   "execution_count": 19,
   "id": "e71dcebb-b45f-4c6a-8131-23350d63cc10",
   "metadata": {},
   "outputs": [
    {
     "data": {
      "text/plain": [
       "0"
      ]
     },
     "execution_count": 19,
     "metadata": {},
     "output_type": "execute_result"
    }
   ],
   "source": [
    "df['revenue'].isna().sum()"
   ]
  },
  {
   "cell_type": "markdown",
   "id": "133dd2db-3156-4670-a38a-84e2e980598d",
   "metadata": {},
   "source": [
    "# How many movies are there in each of the certification categories (G/PG/PG-13/R)?"
   ]
  },
  {
   "cell_type": "code",
   "execution_count": 20,
   "id": "367fef03-a9e8-40b9-9685-5846ce527d59",
   "metadata": {},
   "outputs": [
    {
     "data": {
      "image/png": "[encoded data removed]",
      "text/plain": [
       "<Figure size 640x480 with 1 Axes>"
      ]
     },
     "metadata": {},
     "output_type": "display_data"
    }
   ],
   "source": [
    "ax = df['certification'].hist()\n",
    "ax.tick_params(axis='x', rotation = 45)\n",
    "ax.set_title('Number of Movies Per Rating Category')\n",
    "ax.set_xlabel('Rating')\n",
    "ax.set_ylabel('Number of Movies');"
   ]
  },
  {
   "cell_type": "code",
   "execution_count": 24,
   "id": "1ec30a7c-f977-4d6a-a57b-7c3c03389cdd",
   "metadata": {},
   "outputs": [
    {
     "data": {
      "text/plain": [
       "R        158\n",
       "PG-13    131\n",
       "PG        34\n",
       "G         11\n",
       "NR         6\n",
       "Name: certification, dtype: int64"
      ]
     },
     "execution_count": 24,
     "metadata": {},
     "output_type": "execute_result"
    }
   ],
   "source": [
    "df.certification.value_counts()"
   ]
  },
  {
   "cell_type": "markdown",
   "id": "52c1e4ce-0d2b-4d27-b7ee-418623ea995b",
   "metadata": {},
   "source": [
    "# What is the average revenue per certification category?"
   ]
  },
  {
   "cell_type": "code",
   "execution_count": 22,
   "id": "8d7f9ffa-df82-43bc-91c8-2678c4754cd1",
   "metadata": {},
   "outputs": [
    {
     "data": {
      "text/plain": [
       "certification\n",
       "G        1.401132e+08\n",
       "NR       1.041057e+07\n",
       "PG       1.901400e+08\n",
       "PG-13    1.102883e+08\n",
       "R        4.649087e+07\n",
       "Name: revenue, dtype: float64"
      ]
     },
     "execution_count": 22,
     "metadata": {},
     "output_type": "execute_result"
    }
   ],
   "source": [
    "df.groupby('certification')['revenue'].mean()"
   ]
  },
  {
   "cell_type": "code",
   "execution_count": 53,
   "id": "cbefea85-4e53-4c94-b4d6-3b37e9cfbcd7",
   "metadata": {},
   "outputs": [
    {
     "data": {
      "image/png": "[encoded data removed]",
      "text/plain": [
       "<Figure size 640x480 with 1 Axes>"
      ]
     },
     "metadata": {},
     "output_type": "display_data"
    }
   ],
   "source": [
    "ax = sns.barplot(data=df, x='certification', y=\"revenue\")\n",
    "ax.set_title('Average Revenue per Rating Category');"
   ]
  },
  {
   "cell_type": "markdown",
   "id": "ff08b87e-2f7c-4784-a69f-46911669aa5e",
   "metadata": {},
   "source": [
    "# What is the average budget per certification category?"
   ]
  },
  {
   "cell_type": "code",
   "execution_count": 23,
   "id": "d525acf1-fcc5-4a20-8bf7-aff80e166460",
   "metadata": {},
   "outputs": [
    {
     "data": {
      "text/plain": [
       "certification\n",
       "G        4.781818e+07\n",
       "NR       4.633333e+06\n",
       "PG       5.064404e+07\n",
       "PG-13    4.368342e+07\n",
       "R        2.755095e+07\n",
       "Name: budget, dtype: float64"
      ]
     },
     "execution_count": 23,
     "metadata": {},
     "output_type": "execute_result"
    }
   ],
   "source": [
    "df.groupby('certification')['budget'].mean()"
   ]
  },
  {
   "cell_type": "code",
   "execution_count": 54,
   "id": "975b2f8e-7e2c-49fe-b891-588ddb364453",
   "metadata": {},
   "outputs": [
    {
     "data": {
      "image/png": "[encoded data removed]",
      "text/plain": [
       "<Figure size 640x480 with 1 Axes>"
      ]
     },
     "metadata": {},
     "output_type": "display_data"
    }
   ],
   "source": [
    "ax = sns.barplot(data=df, x='certification', y=\"budget\")\n",
    "ax.set_title('Average Budget per Rating Category');"
   ]
  }
 ],
 "metadata": {
  "kernelspec": {
   "display_name": "Python (dojo-env)",
   "language": "python",
   "name": "dojo-env"
  },
  "language_info": {
   "codemirror_mode": {
    "name": "ipython",
    "version": 3
   },
   "file_extension": ".py",
   "mimetype": "text/x-python",
   "name": "python",
   "nbconvert_exporter": "python",
   "pygments_lexer": "ipython3",
   "version": "3.10.10"
  },
  "widgets": {
   "application/vnd.jupyter.widget-state+json": {
    "state": {},
    "version_major": 2,
    "version_minor": 0
   }
  }
 },
 "nbformat": 4,
 "nbformat_minor": 5
}
